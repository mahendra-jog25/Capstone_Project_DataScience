{
 "cells": [
  {
   "cell_type": "code",
   "execution_count": 1,
   "metadata": {},
   "outputs": [],
   "source": [
    "df2 = pd.read_excel('F1B_AfterEDA.xlsx')"
   ]
  },
  {
   "cell_type": "code",
   "execution_count": 2,
   "metadata": {},
   "outputs": [
    {
     "data": {
      "text/plain": [
       "CASE_STATUS               int64\n",
       "TOTAL_WORKERS             int64\n",
       "FULL_TIME_POSITION       object\n",
       "PREVAILING_WAGE         float64\n",
       "PW_UNIT_OF_PAY           object\n",
       "PW_SOURCE_YEAR            int64\n",
       "H-1B_DEPENDENT           object\n",
       "WILLFUL_VIOLATOR         object\n",
       "CS_DD_Duration            int64\n",
       "Emp_Stay_Duration_Yr    float64\n",
       "EMPLOYER_FREQUENCY        int64\n",
       "AGENT_ATTORNEY            int64\n",
       "OCCUPATION               object\n",
       "PWGrWGFm                 object\n",
       "dtype: object"
      ]
     },
     "execution_count": 2,
     "metadata": {},
     "output_type": "execute_result"
    }
   ],
   "source": [
    "df2.dtypes"
   ]
  },
  {
   "cell_type": "code",
   "execution_count": 3,
   "metadata": {},
   "outputs": [],
   "source": [
    "df2['CASE_STATUS'] = df2['CASE_STATUS'].astype('object')\n",
    "df2['PW_SOURCE_YEAR'] = df2['PW_SOURCE_YEAR'].astype('object')\n",
    "df2['CS_DD_Duration'] = df2['CS_DD_Duration'].astype('object')\n",
    "df2['Emp_Stay_Duration_Yr'] = df2['Emp_Stay_Duration_Yr'].astype('object')\n",
    "df2['AGENT_ATTORNEY'] = df2['AGENT_ATTORNEY'].astype('object')\n"
   ]
  },
  {
   "cell_type": "code",
   "execution_count": 4,
   "metadata": {},
   "outputs": [
    {
     "data": {
      "text/plain": [
       "CASE_STATUS              object\n",
       "TOTAL_WORKERS             int64\n",
       "FULL_TIME_POSITION       object\n",
       "PREVAILING_WAGE         float64\n",
       "PW_UNIT_OF_PAY           object\n",
       "PW_SOURCE_YEAR           object\n",
       "H-1B_DEPENDENT           object\n",
       "WILLFUL_VIOLATOR         object\n",
       "CS_DD_Duration           object\n",
       "Emp_Stay_Duration_Yr     object\n",
       "EMPLOYER_FREQUENCY        int64\n",
       "AGENT_ATTORNEY           object\n",
       "OCCUPATION               object\n",
       "PWGrWGFm                 object\n",
       "dtype: object"
      ]
     },
     "execution_count": 4,
     "metadata": {},
     "output_type": "execute_result"
    }
   ],
   "source": [
    "df2.dtypes"
   ]
  },
  {
   "cell_type": "markdown",
   "metadata": {},
   "source": [
    "# CREATING MODEL"
   ]
  },
  {
   "cell_type": "code",
   "execution_count": 5,
   "metadata": {},
   "outputs": [],
   "source": [
    "from sklearn.preprocessing import StandardScaler\n",
    "from sklearn.metrics import confusion_matrix,classification_report,matthews_corrcoef,cohen_kappa_score,precision_score,recall_score,f1_score,roc_auc_score, roc_curve,accuracy_score\n",
    "from sklearn import metrics"
   ]
  },
  {
   "cell_type": "code",
   "execution_count": 6,
   "metadata": {},
   "outputs": [],
   "source": [
    "df2['CASE_STATUS'] = df2.CASE_STATUS.astype('int')"
   ]
  },
  {
   "cell_type": "markdown",
   "metadata": {},
   "source": [
    "### Transformed with Standard Scalar and Model"
   ]
  },
  {
   "cell_type": "code",
   "execution_count": 7,
   "metadata": {},
   "outputs": [],
   "source": [
    "X = df2.drop(['CASE_STATUS','TOTAL_WORKERS'],axis=1)\n",
    "y = df2.CASE_STATUS"
   ]
  },
  {
   "cell_type": "code",
   "execution_count": 8,
   "metadata": {},
   "outputs": [
    {
     "data": {
      "text/plain": [
       "FULL_TIME_POSITION       0\n",
       "PREVAILING_WAGE          0\n",
       "PW_UNIT_OF_PAY           0\n",
       "PW_SOURCE_YEAR           0\n",
       "H-1B_DEPENDENT           0\n",
       "WILLFUL_VIOLATOR         0\n",
       "CS_DD_Duration           0\n",
       "Emp_Stay_Duration_Yr    13\n",
       "EMPLOYER_FREQUENCY       0\n",
       "AGENT_ATTORNEY           0\n",
       "OCCUPATION               0\n",
       "PWGrWGFm                 0\n",
       "dtype: int64"
      ]
     },
     "execution_count": 8,
     "metadata": {},
     "output_type": "execute_result"
    }
   ],
   "source": [
    "X.isnull().sum()"
   ]
  },
  {
   "cell_type": "code",
   "execution_count": 9,
   "metadata": {},
   "outputs": [],
   "source": [
    "X_dummy = pd.get_dummies(X)"
   ]
  },
  {
   "cell_type": "code",
   "execution_count": 10,
   "metadata": {},
   "outputs": [
    {
     "name": "stderr",
     "output_type": "stream",
     "text": [
      "C:\\Users\\hp\\Anaconda3\\lib\\site-packages\\statsmodels\\stats\\outliers_influence.py:185: RuntimeWarning: divide by zero encountered in double_scalars\n",
      "  vif = 1. / (1. - r_squared_i)\n"
     ]
    },
    {
     "data": {
      "text/plain": [
       "[1.2455638274348226,\n",
       " inf,\n",
       " inf,\n",
       " inf,\n",
       " inf,\n",
       " inf,\n",
       " inf,\n",
       " inf,\n",
       " inf,\n",
       " inf,\n",
       " inf,\n",
       " inf,\n",
       " inf,\n",
       " inf,\n",
       " inf,\n",
       " inf,\n",
       " inf,\n",
       " inf,\n",
       " inf,\n",
       " inf,\n",
       " inf,\n",
       " inf,\n",
       " inf,\n",
       " inf,\n",
       " inf,\n",
       " inf,\n",
       " inf,\n",
       " inf,\n",
       " inf,\n",
       " inf,\n",
       " inf,\n",
       " inf,\n",
       " inf,\n",
       " inf,\n",
       " 91.53670062271479,\n",
       " 711.0350261030934,\n",
       " 724.9242302049067,\n",
       " 1480.0671824172273,\n",
       " inf,\n",
       " inf,\n",
       " inf,\n",
       " inf,\n",
       " inf,\n",
       " inf,\n",
       " inf,\n",
       " inf,\n",
       " inf,\n",
       " inf,\n",
       " inf,\n",
       " inf,\n",
       " inf,\n",
       " inf,\n",
       " inf]"
      ]
     },
     "execution_count": 10,
     "metadata": {},
     "output_type": "execute_result"
    }
   ],
   "source": [
    "from statsmodels.stats.outliers_influence import variance_inflation_factor\n",
    "\n",
    "[variance_inflation_factor(X_dummy.values, j) for j in range(1, X_dummy.shape[1])]"
   ]
  },
  {
   "cell_type": "markdown",
   "metadata": {},
   "source": [
    "##### No multi colinearity"
   ]
  },
  {
   "cell_type": "code",
   "execution_count": 11,
   "metadata": {},
   "outputs": [],
   "source": [
    "from sklearn.model_selection import train_test_split\n",
    "xtrain,xtest,ytrain,ytest = train_test_split(X_dummy,y,test_size=0.3,random_state=3)"
   ]
  },
  {
   "cell_type": "code",
   "execution_count": 12,
   "metadata": {},
   "outputs": [],
   "source": [
    "#Scaling the dataset\n",
    "sc = StandardScaler()"
   ]
  },
  {
   "cell_type": "code",
   "execution_count": 13,
   "metadata": {},
   "outputs": [],
   "source": [
    "scaled_train = pd.DataFrame(sc.fit_transform(xtrain), \n",
    "                            columns = xtrain.columns)"
   ]
  },
  {
   "cell_type": "code",
   "execution_count": 14,
   "metadata": {},
   "outputs": [],
   "source": [
    "scaled_test = pd.DataFrame(sc.transform(xtest), \n",
    "                           columns = xtest.columns)"
   ]
  },
  {
   "cell_type": "code",
   "execution_count": 15,
   "metadata": {},
   "outputs": [],
   "source": [
    "from sklearn.linear_model import LogisticRegression\n",
    "lg = LogisticRegression()\n",
    "from sklearn.tree import DecisionTreeClassifier\n",
    "dtree = DecisionTreeClassifier()\n",
    "from sklearn.ensemble import RandomForestClassifier\n",
    "rf = RandomForestClassifier()\n",
    "from sklearn.naive_bayes import GaussianNB\n",
    "gnb = GaussianNB()\n",
    "from sklearn.neighbors import KNeighborsClassifier\n",
    "knn = KNeighborsClassifier(n_neighbors=10)\n",
    "from sklearn.ensemble import GradientBoostingClassifier\n",
    "gbm = GradientBoostingClassifier()\n",
    "from xgboost.sklearn import XGBClassifier\n",
    "xgb = XGBClassifier()"
   ]
  },
  {
   "cell_type": "markdown",
   "metadata": {},
   "source": [
    "##### Logistic Regression"
   ]
  },
  {
   "cell_type": "markdown",
   "metadata": {},
   "source": [
    "##### Decision Tree"
   ]
  },
  {
   "cell_type": "code",
   "execution_count": 17,
   "metadata": {},
   "outputs": [
    {
     "name": "stdout",
     "output_type": "stream",
     "text": [
      "0.9985580815830046\n",
      "0.9886730274849462\n",
      "0.5636303708260397\n",
      "              precision    recall  f1-score   support\n",
      "\n",
      "           0       0.56      0.58      0.57      1494\n",
      "           1       0.99      0.99      0.99    114424\n",
      "\n",
      "    accuracy                           0.99    115918\n",
      "   macro avg       0.78      0.79      0.78    115918\n",
      "weighted avg       0.99      0.99      0.99    115918\n",
      "\n",
      "[[   868    626]\n",
      " [   687 113737]]\n",
      "auc score is 0.7891652518625154\n"
     ]
    }
   ],
   "source": [
    "predtree = dtree.fit(xtrain,ytrain).predict(xtest)\n",
    "print(dtree.score(xtrain,ytrain))\n",
    "print(accuracy_score(ytest,predtree))\n",
    "print(cohen_kappa_score(ytest,predtree))\n",
    "print(classification_report(ytest,predtree))\n",
    "print(confusion_matrix(ytest,predtree))\n",
    "probs = dtree.predict_proba(xtest)\n",
    "probability = probs[:,1]\n",
    "auc = roc_auc_score(ytest,probability)\n",
    "print('auc score is',auc)"
   ]
  },
  {
   "cell_type": "code",
   "execution_count": 51,
   "metadata": {},
   "outputs": [
    {
     "name": "stderr",
     "output_type": "stream",
     "text": [
      "C:\\Users\\hp\\Anaconda3\\lib\\site-packages\\sklearn\\linear_model\\logistic.py:432: FutureWarning: Default solver will be changed to 'lbfgs' in 0.22. Specify a solver to silence this warning.\n",
      "  FutureWarning)\n"
     ]
    },
    {
     "name": "stdout",
     "output_type": "stream",
     "text": [
      "Cohen_kappa_score: 0.004\n",
      "Test Accuracy: 0.9871\n",
      "Train Accuracy: 0.9868\n",
      "Precision Score: 0.9871\n",
      "Recall Score: 0.501\n",
      "F1 Score: 0.4988\n"
     ]
    }
   ],
   "source": [
    "pred_lr = lg.fit(xtrain,ytrain).predict(xtest)\n",
    "coh_lr = round(cohen_kappa_score(ytest,predlg), 4)\n",
    "print ('Cohen_kappa_score:',coh_lr)\n",
    "test_lr = round(accuracy_score(ytest,predlg), 4)\n",
    "print ('Test Accuracy:',test_lr )\n",
    "train_lr = round(lg.score(xtrain,ytrain), 4)\n",
    "print ('Train Accuracy:',train_lr )\n",
    "pre_lr = round(precision_score(ytest,predlg), 4)\n",
    "print ('Precision Score:', pre_lr)\n",
    "re_lr = round(recall_score(ytest,predlg, average='macro'), 4)\n",
    "print ('Recall Score:', re_lr)\n",
    "#roc_lr = round(roc_auc_score(y_test, pred_lr), 4)\n",
    "#print ('ROC AUC Score:', roc_lr )\n",
    "f1_lr = round(f1_score(ytest,predlg, average='macro'), 4)\n",
    "print ('F1 Score:', f1_lr )              "
   ]
  },
  {
   "cell_type": "code",
   "execution_count": 59,
   "metadata": {},
   "outputs": [
    {
     "name": "stdout",
     "output_type": "stream",
     "text": [
      "Cohen_kappa_score: 0.5606\n",
      "Test Accuracy: 0.9885\n",
      "Train Accuracy: 0.9986\n",
      "Precision Score: 0.9945\n",
      "Recall Score: 0.7874\n",
      "F1 Score: 0.7803\n"
     ]
    }
   ],
   "source": [
    "predtree = dtree.fit(xtrain,ytrain).predict(xtest)\n",
    "coh_dtree = round(cohen_kappa_score(ytest,predtree), 4)\n",
    "print ('Cohen_kappa_score:',coh_dtree)\n",
    "test_dtree = round(accuracy_score(ytest,predtree), 4)\n",
    "print ('Test Accuracy:',test_dtree )\n",
    "train_dtree = round(dtree.score(xtrain,ytrain), 4)\n",
    "print ('Train Accuracy:',train_dtree )\n",
    "pre_dtree = round(precision_score(ytest,predtree), 4)\n",
    "print ('Precision Score:', pre_dtree)\n",
    "re_dtree = round(recall_score(ytest,predtree, average='macro'), 4)\n",
    "print ('Recall Score:', re_dtree)\n",
    "#roc_lr = round(roc_auc_score(y_test, pred_lr), 4)\n",
    "#print ('ROC AUC Score:', roc_lr )\n",
    "f1_dtree = round(f1_score(ytest,predtree, average='macro'), 4)\n",
    "print ('F1 Score:', f1_dtree )              "
   ]
  },
  {
   "cell_type": "markdown",
   "metadata": {},
   "source": [
    "##### Random Forest"
   ]
  },
  {
   "cell_type": "code",
   "execution_count": 18,
   "metadata": {},
   "outputs": [
    {
     "name": "stderr",
     "output_type": "stream",
     "text": [
      "C:\\Users\\hp\\Anaconda3\\lib\\site-packages\\sklearn\\ensemble\\forest.py:245: FutureWarning: The default value of n_estimators will change from 10 in version 0.20 to 100 in 0.22.\n",
      "  \"10 in version 0.20 to 100 in 0.22.\", FutureWarning)\n"
     ]
    },
    {
     "name": "stdout",
     "output_type": "stream",
     "text": [
      "0.9980404698435703\n",
      "0.9917527907658862\n",
      "0.6337809827909963\n",
      "              precision    recall  f1-score   support\n",
      "\n",
      "           0       0.73      0.56      0.64      1494\n",
      "           1       0.99      1.00      1.00    114424\n",
      "\n",
      "    accuracy                           0.99    115918\n",
      "   macro avg       0.86      0.78      0.82    115918\n",
      "weighted avg       0.99      0.99      0.99    115918\n",
      "\n",
      "[[   842    652]\n",
      " [   304 114120]]\n",
      "auc score is 0.8348082224958937\n"
     ]
    }
   ],
   "source": [
    "predrf = rf.fit(xtrain,ytrain).predict(xtest)\n",
    "print(rf.score(xtrain,ytrain))\n",
    "print(accuracy_score(ytest,predrf))\n",
    "print(cohen_kappa_score(ytest,predrf))\n",
    "print(classification_report(ytest,predrf))\n",
    "print(confusion_matrix(ytest,predrf))\n",
    "probs = rf.predict_proba(xtest)\n",
    "probability = probs[:,1]\n",
    "auc = roc_auc_score(ytest,probability)\n",
    "print('auc score is',auc)"
   ]
  },
  {
   "cell_type": "code",
   "execution_count": 60,
   "metadata": {},
   "outputs": [
    {
     "name": "stdout",
     "output_type": "stream",
     "text": [
      "Cohen_kappa_score: 0.633\n",
      "Test Accuracy: 0.9916\n",
      "Train Accuracy: 0.9986\n",
      "Precision Score: 0.9944\n",
      "Recall Score: 0.7831\n",
      "F1 Score: 0.8165\n"
     ]
    }
   ],
   "source": [
    "predrf = rf.fit(xtrain,ytrain).predict(xtest)\n",
    "coh_rf = round(cohen_kappa_score(ytest,predrf), 4)\n",
    "print ('Cohen_kappa_score:',coh_rf)\n",
    "test_rf = round(accuracy_score(ytest,predrf), 4)\n",
    "print ('Test Accuracy:',test_rf )\n",
    "train_rf = round(dtree.score(xtrain,ytrain), 4)\n",
    "print ('Train Accuracy:',train_rf )\n",
    "pre_rf = round(precision_score(ytest,predrf), 4)\n",
    "print ('Precision Score:', pre_rf)\n",
    "re_rf = round(recall_score(ytest,predrf, average='macro'), 4)\n",
    "print ('Recall Score:', re_rf)\n",
    "#roc_lr = round(roc_auc_score(y_test, pred_lr), 4)\n",
    "#print ('ROC AUC Score:', roc_lr )\n",
    "f1_rf = round(f1_score(ytest,predrf, average='macro'), 4)\n",
    "print ('F1 Score:', f1_rf )              "
   ]
  },
  {
   "cell_type": "markdown",
   "metadata": {},
   "source": [
    "##### Naive Bayes"
   ]
  },
  {
   "cell_type": "code",
   "execution_count": 19,
   "metadata": {},
   "outputs": [
    {
     "name": "stdout",
     "output_type": "stream",
     "text": [
      "0.9841388974130505\n",
      "0.9844631549888715\n",
      "0.013804598297226467\n",
      "              precision    recall  f1-score   support\n",
      "\n",
      "           0       0.05      0.01      0.02      1494\n",
      "           1       0.99      1.00      0.99    114424\n",
      "\n",
      "    accuracy                           0.98    115918\n",
      "   macro avg       0.52      0.50      0.51    115918\n",
      "weighted avg       0.98      0.98      0.98    115918\n",
      "\n",
      "[[    17   1477]\n",
      " [   324 114100]]\n",
      "auc score is 0.6369439017109244\n"
     ]
    }
   ],
   "source": [
    "predgnb = gnb.fit(xtrain,ytrain).predict(xtest)\n",
    "print(gnb.score(xtrain,ytrain))\n",
    "print(accuracy_score(ytest,predgnb))\n",
    "print(cohen_kappa_score(ytest,predgnb))\n",
    "print(classification_report(ytest,predgnb))\n",
    "print(confusion_matrix(ytest,predgnb))\n",
    "probs = gnb.predict_proba(xtest)\n",
    "probability = probs[:,1]\n",
    "auc = roc_auc_score(ytest,probability)\n",
    "print('auc score is',auc)"
   ]
  },
  {
   "cell_type": "code",
   "execution_count": 61,
   "metadata": {},
   "outputs": [
    {
     "name": "stdout",
     "output_type": "stream",
     "text": [
      "Cohen_kappa_score: 0.0138\n",
      "Test Accuracy: 0.9845\n",
      "Train Accuracy: 0.9986\n",
      "Precision Score: 0.9872\n",
      "Recall Score: 0.5043\n",
      "F1 Score: 0.5053\n"
     ]
    }
   ],
   "source": [
    "predgnb = gnb.fit(xtrain,ytrain).predict(xtest)\n",
    "coh_nb = round(cohen_kappa_score(ytest,predgnb), 4)\n",
    "print ('Cohen_kappa_score:',coh_nb)\n",
    "test_nb = round(accuracy_score(ytest,predgnb), 4)\n",
    "print ('Test Accuracy:',test_nb )\n",
    "train_nb = round(dtree.score(xtrain,ytrain), 4)\n",
    "print ('Train Accuracy:',train_nb )\n",
    "pre_nb = round(precision_score(ytest,predgnb), 4)\n",
    "print ('Precision Score:', pre_nb)\n",
    "re_nb = round(recall_score(ytest,predgnb, average='macro'), 4)\n",
    "print ('Recall Score:', re_nb)\n",
    "#roc_lr = round(roc_auc_score(y_test, pred_lr), 4)\n",
    "#print ('ROC AUC Score:', roc_lr )\n",
    "f1_nb = round(f1_score(ytest,predgnb, average='macro'), 4)\n",
    "print ('F1 Score:', f1_nb )              "
   ]
  },
  {
   "cell_type": "markdown",
   "metadata": {},
   "source": [
    "##### KNN"
   ]
  },
  {
   "cell_type": "code",
   "execution_count": 20,
   "metadata": {},
   "outputs": [
    {
     "name": "stdout",
     "output_type": "stream",
     "text": [
      "0.987244567849656\n",
      "0.9873531289359719\n",
      "0.06739315580662952\n",
      "              precision    recall  f1-score   support\n",
      "\n",
      "           0       0.68      0.04      0.07      1494\n",
      "           1       0.99      1.00      0.99    114424\n",
      "\n",
      "    accuracy                           0.99    115918\n",
      "   macro avg       0.83      0.52      0.53    115918\n",
      "weighted avg       0.98      0.99      0.98    115918\n",
      "\n",
      "[[    54   1440]\n",
      " [    26 114398]]\n",
      "auc score is 0.6492639496904863\n"
     ]
    }
   ],
   "source": [
    "predknn = knn.fit(xtrain,ytrain).predict(xtest)\n",
    "print(knn.score(xtrain,ytrain))\n",
    "print(accuracy_score(ytest,predknn))\n",
    "print(cohen_kappa_score(ytest,predknn))\n",
    "print(classification_report(ytest,predknn))\n",
    "print(confusion_matrix(ytest,predknn))\n",
    "probs = knn.predict_proba(xtest)\n",
    "probability = probs[:,1]\n",
    "auc = roc_auc_score(ytest,probability)\n",
    "print('auc score is',auc)"
   ]
  },
  {
   "cell_type": "code",
   "execution_count": 62,
   "metadata": {},
   "outputs": [
    {
     "name": "stdout",
     "output_type": "stream",
     "text": [
      "Cohen_kappa_score: 0.0674\n",
      "Test Accuracy: 0.9874\n",
      "Train Accuracy: 0.9986\n",
      "Precision Score: 0.9876\n",
      "Recall Score: 0.518\n",
      "F1 Score: 0.5311\n"
     ]
    }
   ],
   "source": [
    "predknn = knn.fit(xtrain,ytrain).predict(xtest)\n",
    "coh_knn = round(cohen_kappa_score(ytest,predknn), 4)\n",
    "print ('Cohen_kappa_score:',coh_knn)\n",
    "test_knn = round(accuracy_score(ytest,predknn), 4)\n",
    "print ('Test Accuracy:',test_knn )\n",
    "train_knn = round(dtree.score(xtrain,ytrain), 4)\n",
    "print ('Train Accuracy:',train_knn )\n",
    "pre_knn = round(precision_score(ytest,predknn), 4)\n",
    "print ('Precision Score:', pre_knn)\n",
    "re_knn = round(recall_score(ytest,predknn, average='macro'), 4)\n",
    "print ('Recall Score:', re_knn)\n",
    "#roc_lr = round(roc_auc_score(y_test, pred_lr), 4)\n",
    "#print ('ROC AUC Score:', roc_lr )\n",
    "f1_knn = round(f1_score(ytest,predknn, average='macro'), 4)\n",
    "print('F1 Score:', f1_knn )              "
   ]
  },
  {
   "cell_type": "markdown",
   "metadata": {},
   "source": [
    "##### GBM"
   ]
  },
  {
   "cell_type": "code",
   "execution_count": 21,
   "metadata": {},
   "outputs": [
    {
     "name": "stdout",
     "output_type": "stream",
     "text": [
      "0.9935816144310153\n",
      "0.9935385358615573\n",
      "0.6775809749942108\n",
      "              precision    recall  f1-score   support\n",
      "\n",
      "           0       0.94      0.53      0.68      1494\n",
      "           1       0.99      1.00      1.00    114424\n",
      "\n",
      "    accuracy                           0.99    115918\n",
      "   macro avg       0.97      0.77      0.84    115918\n",
      "weighted avg       0.99      0.99      0.99    115918\n",
      "\n",
      "[[   798    696]\n",
      " [    53 114371]]\n",
      "auc score is 0.9299356354781263\n"
     ]
    }
   ],
   "source": [
    "predgbm = gbm.fit(xtrain,ytrain).predict(xtest)\n",
    "print(gbm.score(xtrain,ytrain))\n",
    "print(accuracy_score(ytest,predgbm))\n",
    "print(cohen_kappa_score(ytest,predgbm))\n",
    "print(classification_report(ytest,predgbm))\n",
    "print(confusion_matrix(ytest,predgbm))\n",
    "probs = gbm.predict_proba(xtest)\n",
    "probability = probs[:,1]\n",
    "auc = roc_auc_score(ytest,probability)\n",
    "print('auc score is',auc)"
   ]
  },
  {
   "cell_type": "code",
   "execution_count": 63,
   "metadata": {},
   "outputs": [
    {
     "name": "stdout",
     "output_type": "stream",
     "text": [
      "Cohen_kappa_score: 0.6776\n",
      "Test Accuracy: 0.9935\n",
      "Train Accuracy: 0.9986\n",
      "Precision Score: 0.994\n",
      "Recall Score: 0.7668\n",
      "F1 Score: 0.8387\n"
     ]
    }
   ],
   "source": [
    "predgbm = gbm.fit(xtrain,ytrain).predict(xtest)\n",
    "coh_gbc = round(cohen_kappa_score(ytest,predgbm), 4)\n",
    "print ('Cohen_kappa_score:',coh_gbc)\n",
    "test_gbc = round(accuracy_score(ytest,predgbm), 4)\n",
    "print ('Test Accuracy:',test_gbc )\n",
    "train_gbc = round(dtree.score(xtrain,ytrain), 4)\n",
    "print ('Train Accuracy:',train_gbc )\n",
    "pre_gbc = round(precision_score(ytest,predgbm), 4)\n",
    "print ('Precision Score:', pre_gbc)\n",
    "re_gbc = round(recall_score(ytest,predgbm, average='macro'), 4)\n",
    "print ('Recall Score:', re_gbc)\n",
    "#roc_lr = round(roc_auc_score(y_test, pred_lr), 4)\n",
    "#print ('ROC AUC Score:', roc_lr )\n",
    "f1_gbc = round(f1_score(ytest,predgbm, average='macro'), 4)\n",
    "print ('F1 Score:', f1_gbc )              "
   ]
  },
  {
   "cell_type": "markdown",
   "metadata": {},
   "source": [
    "##### XGB"
   ]
  },
  {
   "cell_type": "code",
   "execution_count": 22,
   "metadata": {},
   "outputs": [
    {
     "name": "stdout",
     "output_type": "stream",
     "text": [
      "0.9934189364557645\n",
      "0.9936334305284771\n",
      "0.6770338514569951\n",
      "              precision    recall  f1-score   support\n",
      "\n",
      "           0       0.97      0.52      0.68      1494\n",
      "           1       0.99      1.00      1.00    114424\n",
      "\n",
      "    accuracy                           0.99    115918\n",
      "   macro avg       0.98      0.76      0.84    115918\n",
      "weighted avg       0.99      0.99      0.99    115918\n",
      "\n",
      "[[   784    710]\n",
      " [    28 114396]]\n",
      "auc score is 0.9289903589982761\n"
     ]
    }
   ],
   "source": [
    "predxgb = xgb.fit(xtrain,ytrain).predict(xtest)\n",
    "print(xgb.score(xtrain,ytrain))\n",
    "print(accuracy_score(ytest,predxgb))\n",
    "print(cohen_kappa_score(ytest,predxgb))\n",
    "print(classification_report(ytest,predxgb))\n",
    "print(confusion_matrix(ytest,predxgb))\n",
    "probs = xgb.predict_proba(xtest)\n",
    "probability = probs[:,1]\n",
    "auc = roc_auc_score(ytest,probability)\n",
    "print('auc score is',auc)"
   ]
  },
  {
   "cell_type": "code",
   "execution_count": 64,
   "metadata": {},
   "outputs": [
    {
     "name": "stdout",
     "output_type": "stream",
     "text": [
      "Cohen_kappa_score: 0.677\n",
      "Test Accuracy: 0.9936\n",
      "Train Accuracy: 0.9986\n",
      "Precision Score: 0.9938\n",
      "Recall Score: 0.7623\n",
      "F1 Score: 0.8384\n"
     ]
    }
   ],
   "source": [
    "predxgb = xgb.fit(xtrain,ytrain).predict(xtest)\n",
    "coh_xgb = round(cohen_kappa_score(ytest,predxgb), 4)\n",
    "print ('Cohen_kappa_score:',coh_xgb)\n",
    "test_xgb = round(accuracy_score(ytest,predxgb), 4)\n",
    "print ('Test Accuracy:',test_xgb )\n",
    "train_xgb = round(dtree.score(xtrain,ytrain), 4)\n",
    "print ('Train Accuracy:',train_xgb )\n",
    "pre_xgb = round(precision_score(ytest,predxgb), 4)\n",
    "print ('Precision Score:', pre_xgb)\n",
    "re_xgb = round(recall_score(ytest,predxgb, average='macro'), 4)\n",
    "print ('Recall Score:', re_xgb)\n",
    "#roc_lr = round(roc_auc_score(y_test, pred_lr), 4)\n",
    "#print ('ROC AUC Score:', roc_lr )\n",
    "f1_xgb = round(f1_score(ytest,predxgb, average='macro'), 4)\n",
    "print ('F1 Score:', f1_xgb )              "
   ]
  },
  {
   "cell_type": "code",
   "execution_count": 65,
   "metadata": {},
   "outputs": [],
   "source": [
    "models_ = {'Logistic Regression':{'Cohen Kappa':coh_lr, 'Train Accuracy':train_lr, 'Test Accuracy':test_lr, 'Precision':pre_lr, 'Recall Score':re_lr, 'F1 Score':f1_lr},\n",
    "          'DecisionTree':{'Cohen Kappa':coh_dtree, 'Train Accuracy':train_dtree, 'Test Accuracy':test_dtree, 'Precision':pre_dtree, 'Recall Score':re_dtree, 'F1 Score':f1_dtree},\n",
    "          'KNN':{'Cohen Kappa':coh_knn, 'Train Accuracy':train_knn, 'Test Accuracy':test_knn, 'Precision':pre_knn, 'Recall Score':re_knn, 'F1 Score':f1_knn},\n",
    "          'Naives Bayes':{'Cohen Kappa':coh_nb,'Train Accuracy':train_nb, 'Test Accuracy':test_nb, 'Precision':pre_nb, 'Recall Score':re_nb, 'F1 Score':f1_nb},\n",
    "          'RandomForest':{'Cohen Kappa':coh_rf, 'Train Accuracy':train_rf, 'Test Accuracy':test_rf, 'Precision':pre_rf, 'Recall Score':re_rf, 'F1 Score':f1_rf},\n",
    "          'GradientBoosting':{'Cohen Kappa':coh_gbc, 'Train Accuracy':train_gbc, 'Test Accuracy':test_gbc, 'Precision':pre_gbc, 'Recall Score':re_gbc, 'F1 Score':f1_gbc},\n",
    "          'XGBClassifier':{'Cohen Kappa':coh_xgb, 'Train Accuracy':train_xgb, 'Test Accuracy':test_xgb, 'Precision':pre_xgb, 'Recall Score':re_xgb, 'F1 Score':f1_xgb},\n",
    "        \n",
    "          }\n",
    "models = pd.DataFrame(models_)"
   ]
  },
  {
   "cell_type": "code",
   "execution_count": 66,
   "metadata": {},
   "outputs": [
    {
     "data": {
      "text/html": [
       "<div>\n",
       "<style scoped>\n",
       "    .dataframe tbody tr th:only-of-type {\n",
       "        vertical-align: middle;\n",
       "    }\n",
       "\n",
       "    .dataframe tbody tr th {\n",
       "        vertical-align: top;\n",
       "    }\n",
       "\n",
       "    .dataframe thead th {\n",
       "        text-align: right;\n",
       "    }\n",
       "</style>\n",
       "<table border=\"1\" class=\"dataframe\">\n",
       "  <thead>\n",
       "    <tr style=\"text-align: right;\">\n",
       "      <th></th>\n",
       "      <th>Logistic Regression</th>\n",
       "      <th>DecisionTree</th>\n",
       "      <th>KNN</th>\n",
       "      <th>Naives Bayes</th>\n",
       "      <th>RandomForest</th>\n",
       "      <th>GradientBoosting</th>\n",
       "      <th>XGBClassifier</th>\n",
       "    </tr>\n",
       "  </thead>\n",
       "  <tbody>\n",
       "    <tr>\n",
       "      <th>Cohen Kappa</th>\n",
       "      <td>0.6770</td>\n",
       "      <td>0.5606</td>\n",
       "      <td>0.0674</td>\n",
       "      <td>0.0138</td>\n",
       "      <td>0.6330</td>\n",
       "      <td>0.6776</td>\n",
       "      <td>0.6770</td>\n",
       "    </tr>\n",
       "    <tr>\n",
       "      <th>F1 Score</th>\n",
       "      <td>0.8384</td>\n",
       "      <td>0.7803</td>\n",
       "      <td>0.5311</td>\n",
       "      <td>0.5053</td>\n",
       "      <td>0.8165</td>\n",
       "      <td>0.8387</td>\n",
       "      <td>0.8384</td>\n",
       "    </tr>\n",
       "    <tr>\n",
       "      <th>Precision</th>\n",
       "      <td>0.9938</td>\n",
       "      <td>0.9945</td>\n",
       "      <td>0.9876</td>\n",
       "      <td>0.9872</td>\n",
       "      <td>0.9944</td>\n",
       "      <td>0.9940</td>\n",
       "      <td>0.9938</td>\n",
       "    </tr>\n",
       "    <tr>\n",
       "      <th>Recall Score</th>\n",
       "      <td>0.7623</td>\n",
       "      <td>0.7874</td>\n",
       "      <td>0.5180</td>\n",
       "      <td>0.5043</td>\n",
       "      <td>0.7831</td>\n",
       "      <td>0.7668</td>\n",
       "      <td>0.7623</td>\n",
       "    </tr>\n",
       "    <tr>\n",
       "      <th>Test Accuracy</th>\n",
       "      <td>0.9936</td>\n",
       "      <td>0.9885</td>\n",
       "      <td>0.9874</td>\n",
       "      <td>0.9845</td>\n",
       "      <td>0.9916</td>\n",
       "      <td>0.9935</td>\n",
       "      <td>0.9936</td>\n",
       "    </tr>\n",
       "    <tr>\n",
       "      <th>Train Accuracy</th>\n",
       "      <td>0.9986</td>\n",
       "      <td>0.9986</td>\n",
       "      <td>0.9986</td>\n",
       "      <td>0.9986</td>\n",
       "      <td>0.9986</td>\n",
       "      <td>0.9986</td>\n",
       "      <td>0.9986</td>\n",
       "    </tr>\n",
       "  </tbody>\n",
       "</table>\n",
       "</div>"
      ],
      "text/plain": [
       "                Logistic Regression  DecisionTree     KNN  Naives Bayes  \\\n",
       "Cohen Kappa                  0.6770        0.5606  0.0674        0.0138   \n",
       "F1 Score                     0.8384        0.7803  0.5311        0.5053   \n",
       "Precision                    0.9938        0.9945  0.9876        0.9872   \n",
       "Recall Score                 0.7623        0.7874  0.5180        0.5043   \n",
       "Test Accuracy                0.9936        0.9885  0.9874        0.9845   \n",
       "Train Accuracy               0.9986        0.9986  0.9986        0.9986   \n",
       "\n",
       "                RandomForest  GradientBoosting  XGBClassifier  \n",
       "Cohen Kappa           0.6330            0.6776         0.6770  \n",
       "F1 Score              0.8165            0.8387         0.8384  \n",
       "Precision             0.9944            0.9940         0.9938  \n",
       "Recall Score          0.7831            0.7668         0.7623  \n",
       "Test Accuracy         0.9916            0.9935         0.9936  \n",
       "Train Accuracy        0.9986            0.9986         0.9986  "
      ]
     },
     "execution_count": 66,
     "metadata": {},
     "output_type": "execute_result"
    }
   ],
   "source": [
    "models\n",
    "#model without threshold and smote"
   ]
  },
  {
   "cell_type": "markdown",
   "metadata": {},
   "source": [
    "### Applying threshold of 0.95 to predict probality"
   ]
  },
  {
   "cell_type": "code",
   "execution_count": 69,
   "metadata": {},
   "outputs": [],
   "source": [
    "def adjusted_classes(y_scores, t):\n",
    "    return [1 if y >= t else 0 for y in y_scores]"
   ]
  },
  {
   "cell_type": "markdown",
   "metadata": {},
   "source": [
    "##### Logistisc Regression"
   ]
  },
  {
   "cell_type": "code",
   "execution_count": 70,
   "metadata": {},
   "outputs": [],
   "source": [
    "from sklearn.linear_model import LogisticRegression\n",
    "lgt = LogisticRegression()\n",
    "from sklearn.tree import DecisionTreeClassifier\n",
    "dtreet = DecisionTreeClassifier()\n",
    "from sklearn.ensemble import RandomForestClassifier\n",
    "rft = RandomForestClassifier()\n",
    "from sklearn.naive_bayes import GaussianNB\n",
    "gnbt = GaussianNB()\n",
    "from sklearn.neighbors import KNeighborsClassifier\n",
    "knnt = KNeighborsClassifier(n_neighbors=10)\n",
    "from sklearn.ensemble import GradientBoostingClassifier\n",
    "gbmt = GradientBoostingClassifier()\n",
    "from xgboost.sklearn import XGBClassifier\n",
    "xgbt = XGBClassifier()"
   ]
  },
  {
   "cell_type": "code",
   "execution_count": 71,
   "metadata": {},
   "outputs": [
    {
     "name": "stderr",
     "output_type": "stream",
     "text": [
      "C:\\Users\\hp\\Anaconda3\\lib\\site-packages\\sklearn\\linear_model\\logistic.py:432: FutureWarning: Default solver will be changed to 'lbfgs' in 0.22. Specify a solver to silence this warning.\n",
      "  FutureWarning)\n"
     ]
    },
    {
     "name": "stdout",
     "output_type": "stream",
     "text": [
      "0.9868082950978471\n",
      "0.9870511913594092\n",
      "0.026422753332340787\n",
      "              precision    recall  f1-score   support\n",
      "\n",
      "           0       0.43      0.01      0.03      1494\n",
      "           1       0.99      1.00      0.99    114424\n",
      "\n",
      "    accuracy                           0.99    115918\n",
      "   macro avg       0.71      0.51      0.51    115918\n",
      "weighted avg       0.98      0.99      0.98    115918\n",
      "\n",
      "[[    21   1473]\n",
      " [    28 114396]]\n",
      "auc score is 0.8231436665115799\n"
     ]
    }
   ],
   "source": [
    "y_score_lgt = lgt.fit(xtrain,ytrain).predict_proba(xtest)[:, 1]\n",
    "y_pred_lgt = adjusted_classes(y_score_lgt, 0.9)\n",
    "print(lgt.score(xtrain,ytrain))\n",
    "print(accuracy_score(ytest,y_pred_lgt))\n",
    "print(cohen_kappa_score(ytest,y_pred_lgt))\n",
    "print(classification_report(ytest,y_pred_lgt))\n",
    "print(confusion_matrix(ytest,y_pred_lgt))\n",
    "probs = lgt.predict_proba(xtest)\n",
    "probability = probs[:,1]\n",
    "auc = roc_auc_score(ytest,probability)\n",
    "print('auc score is',auc)"
   ]
  },
  {
   "cell_type": "code",
   "execution_count": 72,
   "metadata": {},
   "outputs": [
    {
     "name": "stderr",
     "output_type": "stream",
     "text": [
      "C:\\Users\\hp\\Anaconda3\\lib\\site-packages\\sklearn\\linear_model\\logistic.py:432: FutureWarning: Default solver will be changed to 'lbfgs' in 0.22. Specify a solver to silence this warning.\n",
      "  FutureWarning)\n"
     ]
    },
    {
     "name": "stdout",
     "output_type": "stream",
     "text": [
      "Cohen_kappa_score: 0.0264\n",
      "Test Accuracy: 0.9871\n",
      "Train Accuracy: 0.9868\n",
      "Precision Score: 0.9873\n",
      "Recall Score: 0.5069\n",
      "F1 Score: 0.5104\n"
     ]
    }
   ],
   "source": [
    "y_score_lgt = lgt.fit(xtrain,ytrain).predict_proba(xtest)[:, 1]\n",
    "y_pred_lgt = adjusted_classes(y_score_lgt, 0.9)\n",
    "coh_lr = round(cohen_kappa_score(ytest,y_pred_lgt), 4)\n",
    "print ('Cohen_kappa_score:',coh_lr)\n",
    "test_lr = round(accuracy_score(ytest,y_pred_lgt), 4)\n",
    "print ('Test Accuracy:',test_lr )\n",
    "train_lr = round(lg.score(xtrain,ytrain), 4)\n",
    "print ('Train Accuracy:',train_lr )\n",
    "pre_lr = round(precision_score(ytest,y_pred_lgt), 4)\n",
    "print ('Precision Score:', pre_lr)\n",
    "re_lr = round(recall_score(ytest,y_pred_lgt, average='macro'), 4)\n",
    "print ('Recall Score:', re_lr)\n",
    "#roc_lr = round(roc_auc_score(y_test, pred_lr), 4)\n",
    "#print ('ROC AUC Score:', roc_lr )\n",
    "f1_lr = round(f1_score(ytest,y_pred_lgt, average='macro'), 4)\n",
    "print ('F1 Score:', f1_lr )              "
   ]
  },
  {
   "cell_type": "markdown",
   "metadata": {},
   "source": [
    "##### Decision Tree"
   ]
  },
  {
   "cell_type": "code",
   "execution_count": 73,
   "metadata": {},
   "outputs": [
    {
     "name": "stdout",
     "output_type": "stream",
     "text": [
      "0.9985580815830046\n",
      "0.9868096412981591\n",
      "0.5273477960734265\n",
      "              precision    recall  f1-score   support\n",
      "\n",
      "           0       0.49      0.59      0.53      1494\n",
      "           1       0.99      0.99      0.99    114424\n",
      "\n",
      "    accuracy                           0.99    115918\n",
      "   macro avg       0.74      0.79      0.76    115918\n",
      "weighted avg       0.99      0.99      0.99    115918\n",
      "\n",
      "[[   876    618]\n",
      " [   911 113513]]\n",
      "auc score is 0.7900984107255655\n"
     ]
    }
   ],
   "source": [
    "y_score_dtree = dtreet.fit(xtrain,ytrain).predict_proba(xtest)[:, 1]\n",
    "y_pred_dtreet = adjusted_classes(y_score_dtree, 0.9)\n",
    "print(dtreet.score(xtrain,ytrain))\n",
    "print(accuracy_score(ytest,y_pred_dtreet))\n",
    "print(cohen_kappa_score(ytest,y_pred_dtreet))\n",
    "print(classification_report(ytest,y_pred_dtreet))\n",
    "print(confusion_matrix(ytest,y_pred_dtreet))\n",
    "probs = dtreet.predict_proba(xtest)\n",
    "probability = probs[:,1]\n",
    "auc = roc_auc_score(ytest,probability)\n",
    "print('auc score is',auc)"
   ]
  },
  {
   "cell_type": "code",
   "execution_count": 74,
   "metadata": {},
   "outputs": [
    {
     "name": "stdout",
     "output_type": "stream",
     "text": [
      "Cohen_kappa_score: 0.5293\n",
      "Test Accuracy: 0.9869\n",
      "Train Accuracy: 0.9986\n",
      "Precision Score: 0.9946\n",
      "Recall Score: 0.7886\n",
      "F1 Score: 0.7646\n"
     ]
    }
   ],
   "source": [
    "y_score_dtree = dtreet.fit(xtrain,ytrain).predict_proba(xtest)[:, 1]\n",
    "y_pred_dtreet = adjusted_classes(y_score_dtree, 0.9)\n",
    "coh_dtree = round(cohen_kappa_score(ytest,y_pred_dtreet), 4)\n",
    "print ('Cohen_kappa_score:',coh_dtree)\n",
    "test_dtree = round(accuracy_score(ytest,y_pred_dtreet), 4)\n",
    "print ('Test Accuracy:',test_dtree )\n",
    "train_dtree = round(dtree.score(xtrain,ytrain), 4)\n",
    "print ('Train Accuracy:',train_dtree )\n",
    "pre_dtree = round(precision_score(ytest,y_pred_dtreet), 4)\n",
    "print ('Precision Score:', pre_dtree)\n",
    "re_dtree = round(recall_score(ytest,y_pred_dtreet, average='macro'), 4)\n",
    "print ('Recall Score:', re_dtree)\n",
    "#roc_lr = round(roc_auc_score(y_test, pred_lr), 4)\n",
    "#print ('ROC AUC Score:', roc_lr )\n",
    "f1_dtree = round(f1_score(ytest,y_pred_dtreet, average='macro'), 4)\n",
    "print ('F1 Score:', f1_dtree )              "
   ]
  },
  {
   "cell_type": "markdown",
   "metadata": {},
   "source": [
    "##### Random Forest"
   ]
  },
  {
   "cell_type": "code",
   "execution_count": 75,
   "metadata": {},
   "outputs": [
    {
     "name": "stderr",
     "output_type": "stream",
     "text": [
      "C:\\Users\\hp\\Anaconda3\\lib\\site-packages\\sklearn\\ensemble\\forest.py:245: FutureWarning: The default value of n_estimators will change from 10 in version 0.20 to 100 in 0.22.\n",
      "  \"10 in version 0.20 to 100 in 0.22.\", FutureWarning)\n"
     ]
    },
    {
     "name": "stdout",
     "output_type": "stream",
     "text": [
      "0.9980108920298884\n",
      "0.9830224814092721\n",
      "0.4809056369007323\n",
      "              precision    recall  f1-score   support\n",
      "\n",
      "           0       0.40      0.63      0.49      1494\n",
      "           1       1.00      0.99      0.99    114424\n",
      "\n",
      "    accuracy                           0.98    115918\n",
      "   macro avg       0.70      0.81      0.74    115918\n",
      "weighted avg       0.99      0.98      0.98    115918\n",
      "\n",
      "[[   942    552]\n",
      " [  1416 113008]]\n",
      "auc score is 0.8342027569833272\n"
     ]
    }
   ],
   "source": [
    "y_score_rf = rft.fit(xtrain,ytrain).predict_proba(xtest)[:, 1]\n",
    "y_pred_rft = adjusted_classes(y_score_rf, 0.9)\n",
    "print(rft.score(xtrain,ytrain))\n",
    "print(accuracy_score(ytest,y_pred_rft))\n",
    "print(cohen_kappa_score(ytest,y_pred_rft))\n",
    "print(classification_report(ytest,y_pred_rft))\n",
    "print(confusion_matrix(ytest,y_pred_rft))\n",
    "probs = rft.predict_proba(xtest)\n",
    "probability = probs[:,1]\n",
    "auc = roc_auc_score(ytest,probability)\n",
    "print('auc score is',auc)"
   ]
  },
  {
   "cell_type": "code",
   "execution_count": 76,
   "metadata": {},
   "outputs": [
    {
     "name": "stdout",
     "output_type": "stream",
     "text": [
      "Cohen_kappa_score: 0.4796\n",
      "Test Accuracy: 0.983\n",
      "Train Accuracy: 0.9986\n",
      "Precision Score: 0.9951\n",
      "Recall Score: 0.8081\n",
      "F1 Score: 0.7396\n"
     ]
    }
   ],
   "source": [
    "y_score_rf = rft.fit(xtrain,ytrain).predict_proba(xtest)[:, 1]\n",
    "y_pred_rft = adjusted_classes(y_score_rf, 0.9)\n",
    "coh_rf = round(cohen_kappa_score(ytest,y_pred_rft), 4)\n",
    "print ('Cohen_kappa_score:',coh_rf)\n",
    "test_rf = round(accuracy_score(ytest,y_pred_rft), 4)\n",
    "print ('Test Accuracy:',test_rf )\n",
    "train_rf = round(dtree.score(xtrain,ytrain), 4)\n",
    "print ('Train Accuracy:',train_rf )\n",
    "pre_rf = round(precision_score(ytest,y_pred_rft), 4)\n",
    "print ('Precision Score:', pre_rf)\n",
    "re_rf = round(recall_score(ytest,y_pred_rft, average='macro'), 4)\n",
    "print ('Recall Score:', re_rf)\n",
    "#roc_lr = round(roc_auc_score(y_test, pred_lr), 4)\n",
    "#print ('ROC AUC Score:', roc_lr )\n",
    "f1_rf = round(f1_score(ytest,y_pred_rft, average='macro'), 4)\n",
    "print ('F1 Score:', f1_rf )              "
   ]
  },
  {
   "cell_type": "markdown",
   "metadata": {},
   "source": [
    "##### Naive Bayes"
   ]
  },
  {
   "cell_type": "code",
   "execution_count": 77,
   "metadata": {},
   "outputs": [
    {
     "name": "stdout",
     "output_type": "stream",
     "text": [
      "0.9841388974130505\n",
      "0.9809175451612346\n",
      "0.01518199259395292\n",
      "              precision    recall  f1-score   support\n",
      "\n",
      "           0       0.03      0.02      0.02      1494\n",
      "           1       0.99      0.99      0.99    114424\n",
      "\n",
      "    accuracy                           0.98    115918\n",
      "   macro avg       0.51      0.51      0.51    115918\n",
      "weighted avg       0.97      0.98      0.98    115918\n",
      "\n",
      "[[    27   1467]\n",
      " [   745 113679]]\n",
      "auc score is 0.6369439017109244\n"
     ]
    }
   ],
   "source": [
    "y_score_gnb = gnbt.fit(xtrain,ytrain).predict_proba(xtest)[:, 1]\n",
    "y_pred_gnbt = adjusted_classes(y_score_gnb, 0.9)\n",
    "print(gnbt.score(xtrain,ytrain))\n",
    "print(accuracy_score(ytest,y_pred_gnbt))\n",
    "print(cohen_kappa_score(ytest,y_pred_gnbt))\n",
    "print(classification_report(ytest,y_pred_gnbt))\n",
    "print(confusion_matrix(ytest,y_pred_gnbt))\n",
    "probs = gnbt.predict_proba(xtest)\n",
    "probability = probs[:,1]\n",
    "auc = roc_auc_score(ytest,probability)\n",
    "print('auc score is',auc)"
   ]
  },
  {
   "cell_type": "code",
   "execution_count": 78,
   "metadata": {},
   "outputs": [
    {
     "name": "stdout",
     "output_type": "stream",
     "text": [
      "Cohen_kappa_score: 0.0152\n",
      "Test Accuracy: 0.9809\n",
      "Train Accuracy: 0.9986\n",
      "Precision Score: 0.9873\n",
      "Recall Score: 0.5058\n",
      "F1 Score: 0.5071\n"
     ]
    }
   ],
   "source": [
    "y_score_gnb = gnbt.fit(xtrain,ytrain).predict_proba(xtest)[:, 1]\n",
    "y_pred_gnbt = adjusted_classes(y_score_gnb, 0.9)\n",
    "coh_nb = round(cohen_kappa_score(ytest,y_pred_gnbt), 4)\n",
    "print ('Cohen_kappa_score:',coh_nb)\n",
    "test_nb = round(accuracy_score(ytest,y_pred_gnbt), 4)\n",
    "print ('Test Accuracy:',test_nb )\n",
    "train_nb = round(dtree.score(xtrain,ytrain), 4)\n",
    "print ('Train Accuracy:',train_nb )\n",
    "pre_nb = round(precision_score(ytest,y_pred_gnbt), 4)\n",
    "print ('Precision Score:', pre_nb)\n",
    "re_nb = round(recall_score(ytest,y_pred_gnbt, average='macro'), 4)\n",
    "print ('Recall Score:', re_nb)\n",
    "#roc_lr = round(roc_auc_score(y_test, pred_lr), 4)\n",
    "#print ('ROC AUC Score:', roc_lr )\n",
    "f1_nb = round(f1_score(ytest,y_pred_gnbt, average='macro'), 4)\n",
    "print ('F1 Score:', f1_nb )              "
   ]
  },
  {
   "cell_type": "markdown",
   "metadata": {},
   "source": [
    "##### KNN"
   ]
  },
  {
   "cell_type": "code",
   "execution_count": 79,
   "metadata": {},
   "outputs": [
    {
     "name": "stdout",
     "output_type": "stream",
     "text": [
      "0.987244567849656\n",
      "0.9786055660035542\n",
      "0.1444823681671441\n",
      "              precision    recall  f1-score   support\n",
      "\n",
      "           0       0.16      0.15      0.16      1494\n",
      "           1       0.99      0.99      0.99    114424\n",
      "\n",
      "    accuracy                           0.98    115918\n",
      "   macro avg       0.57      0.57      0.57    115918\n",
      "weighted avg       0.98      0.98      0.98    115918\n",
      "\n",
      "[[   228   1266]\n",
      " [  1214 113210]]\n",
      "auc score is 0.6492639496904863\n"
     ]
    }
   ],
   "source": [
    "y_score_knn = knnt.fit(xtrain,ytrain).predict_proba(xtest)[:, 1]\n",
    "y_pred_knnt = adjusted_classes(y_score_knn, 0.9)\n",
    "print(knnt.score(xtrain,ytrain))\n",
    "print(accuracy_score(ytest,y_pred_knnt))\n",
    "print(cohen_kappa_score(ytest,y_pred_knnt))\n",
    "print(classification_report(ytest,y_pred_knnt))\n",
    "print(confusion_matrix(ytest,y_pred_knnt))\n",
    "probs = knnt.predict_proba(xtest)\n",
    "probability = probs[:,1]\n",
    "auc = roc_auc_score(ytest,probability)\n",
    "print('auc score is',auc)"
   ]
  },
  {
   "cell_type": "code",
   "execution_count": 80,
   "metadata": {},
   "outputs": [
    {
     "name": "stdout",
     "output_type": "stream",
     "text": [
      "Cohen_kappa_score: 0.1445\n",
      "Test Accuracy: 0.9786\n",
      "Train Accuracy: 0.9986\n",
      "Precision Score: 0.9889\n",
      "Recall Score: 0.571\n",
      "F1 Score: 0.5722\n"
     ]
    }
   ],
   "source": [
    "y_score_knn = knnt.fit(xtrain,ytrain).predict_proba(xtest)[:, 1]\n",
    "y_pred_knnt = adjusted_classes(y_score_knn, 0.9)\n",
    "coh_knn = round(cohen_kappa_score(ytest,y_pred_knnt), 4)\n",
    "print ('Cohen_kappa_score:',coh_knn)\n",
    "test_knn = round(accuracy_score(ytest,y_pred_knnt), 4)\n",
    "print ('Test Accuracy:',test_knn )\n",
    "train_knn = round(dtree.score(xtrain,ytrain), 4)\n",
    "print ('Train Accuracy:',train_knn )\n",
    "pre_knn = round(precision_score(ytest,y_pred_knnt), 4)\n",
    "print ('Precision Score:', pre_knn)\n",
    "re_knn = round(recall_score(ytest,y_pred_knnt, average='macro'), 4)\n",
    "print ('Recall Score:', re_knn)\n",
    "#roc_lr = round(roc_auc_score(y_test, pred_lr), 4)\n",
    "#print ('ROC AUC Score:', roc_lr )\n",
    "f1_knn = round(f1_score(ytest,y_pred_knnt, average='macro'), 4)\n",
    "print('F1 Score:', f1_knn )              "
   ]
  },
  {
   "cell_type": "markdown",
   "metadata": {},
   "source": [
    "#### GBM"
   ]
  },
  {
   "cell_type": "code",
   "execution_count": 81,
   "metadata": {},
   "outputs": [
    {
     "name": "stdout",
     "output_type": "stream",
     "text": [
      "Cohen_kappa_score: 0.616\n",
      "Test Accuracy: 0.9901\n",
      "Train Accuracy: 0.9986\n",
      "Precision Score: 0.9951\n",
      "Recall Score: 0.8117\n",
      "F1 Score: 0.808\n"
     ]
    }
   ],
   "source": [
    "y_score_gbm = gbmt.fit(xtrain,ytrain).predict_proba(xtest)[:, 1]\n",
    "y_pred_gbmt = adjusted_classes(y_score_gbm, 0.9)\n",
    "coh_gbc = round(cohen_kappa_score(ytest,y_pred_gbmt), 4)\n",
    "print ('Cohen_kappa_score:',coh_gbc)\n",
    "test_gbc = round(accuracy_score(ytest,y_pred_gbmt), 4)\n",
    "print ('Test Accuracy:',test_gbc )\n",
    "train_gbc = round(dtree.score(xtrain,ytrain), 4)\n",
    "print ('Train Accuracy:',train_gbc )\n",
    "pre_gbc = round(precision_score(ytest,y_pred_gbmt), 4)\n",
    "print ('Precision Score:', pre_gbc)\n",
    "re_gbc = round(recall_score(ytest,y_pred_gbmt, average='macro'), 4)\n",
    "print ('Recall Score:', re_gbc)\n",
    "#roc_lr = round(roc_auc_score(y_test, pred_lr), 4)\n",
    "#print ('ROC AUC Score:', roc_lr )\n",
    "f1_gbc = round(f1_score(ytest,y_pred_gbmt, average='macro'), 4)\n",
    "print ('F1 Score:', f1_gbc )              "
   ]
  },
  {
   "cell_type": "markdown",
   "metadata": {},
   "source": [
    "##### XGB"
   ]
  },
  {
   "cell_type": "code",
   "execution_count": 82,
   "metadata": {},
   "outputs": [],
   "source": [
    "from sklearn.metrics import accuracy_score"
   ]
  },
  {
   "cell_type": "code",
   "execution_count": 83,
   "metadata": {},
   "outputs": [
    {
     "name": "stdout",
     "output_type": "stream",
     "text": [
      "0.9934189364557645\n",
      "0.990683069066064\n",
      "0.6202896531512812\n",
      "              precision    recall  f1-score   support\n",
      "\n",
      "           0       0.65      0.60      0.63      1494\n",
      "           1       0.99      1.00      1.00    114424\n",
      "\n",
      "    accuracy                           0.99    115918\n",
      "   macro avg       0.82      0.80      0.81    115918\n",
      "weighted avg       0.99      0.99      0.99    115918\n",
      "\n",
      "[[   900    594]\n",
      " [   486 113938]]\n",
      "auc score is 0.9289903589982761\n"
     ]
    }
   ],
   "source": [
    "y_score_xgb = xgbt.fit(xtrain,ytrain).predict_proba(xtest)[:, 1]\n",
    "y_pred_xgbt = adjusted_classes(y_score_xgb, 0.9)\n",
    "print(xgbt.score(xtrain,ytrain))\n",
    "print(accuracy_score(ytest,y_pred_xgbt))\n",
    "print(cohen_kappa_score(ytest,y_pred_xgbt))\n",
    "print(classification_report(ytest,y_pred_xgbt))\n",
    "print(confusion_matrix(ytest,y_pred_xgbt))\n",
    "probs = xgbt.predict_proba(xtest)\n",
    "probability = probs[:,1]\n",
    "auc = roc_auc_score(ytest,probability)\n",
    "print('auc score is',auc)"
   ]
  },
  {
   "cell_type": "code",
   "execution_count": 84,
   "metadata": {},
   "outputs": [
    {
     "name": "stdout",
     "output_type": "stream",
     "text": [
      "Cohen_kappa_score: 0.6203\n",
      "Test Accuracy: 0.9907\n",
      "Train Accuracy: 0.9986\n",
      "Precision Score: 0.9948\n",
      "Recall Score: 0.7991\n",
      "F1 Score: 0.8101\n"
     ]
    }
   ],
   "source": [
    "y_score_xgb = xgbt.fit(xtrain,ytrain).predict_proba(xtest)[:, 1]\n",
    "y_pred_xgbt = adjusted_classes(y_score_xgb, 0.9)\n",
    "coh_xgb = round(cohen_kappa_score(ytest,y_pred_xgbt), 4)\n",
    "print ('Cohen_kappa_score:',coh_xgb)\n",
    "test_xgb = round(accuracy_score(ytest,y_pred_xgbt), 4)\n",
    "print ('Test Accuracy:',test_xgb )\n",
    "train_xgb = round(dtree.score(xtrain,ytrain), 4)\n",
    "print ('Train Accuracy:',train_xgb )\n",
    "pre_xgb = round(precision_score(ytest,y_pred_xgbt), 4)\n",
    "print ('Precision Score:', pre_xgb)\n",
    "re_xgb = round(recall_score(ytest,y_pred_xgbt, average='macro'), 4)\n",
    "print ('Recall Score:', re_xgb)\n",
    "#roc_lr = round(roc_auc_score(y_test, pred_lr), 4)\n",
    "#print ('ROC AUC Score:', roc_lr )\n",
    "f1_xgb = round(f1_score(ytest,y_pred_xgbt, average='macro'), 4)\n",
    "print ('F1 Score:', f1_xgb )              "
   ]
  },
  {
   "cell_type": "markdown",
   "metadata": {},
   "source": [
    "#### After applying threshold as 0.90"
   ]
  },
  {
   "cell_type": "code",
   "execution_count": 85,
   "metadata": {},
   "outputs": [],
   "source": [
    "models_with_threshold_90 = {'Logistic Regression':{'Cohen Kappa':coh_lr, 'Train Accuracy':train_lr, 'Test Accuracy':test_lr, 'Precision':pre_lr, 'Recall Score':re_lr, 'F1 Score':f1_lr},\n",
    "          'DecisionTree':{'Cohen Kappa':coh_dtree, 'Train Accuracy':train_dtree, 'Test Accuracy':test_dtree, 'Precision':pre_dtree, 'Recall Score':re_dtree, 'F1 Score':f1_dtree},\n",
    "          'KNN':{'Cohen Kappa':coh_knn, 'Train Accuracy':train_knn, 'Test Accuracy':test_knn, 'Precision':pre_knn, 'Recall Score':re_knn, 'F1 Score':f1_knn},\n",
    "          'Naives Bayes':{'Cohen Kappa':coh_nb,'Train Accuracy':train_nb, 'Test Accuracy':test_nb, 'Precision':pre_nb, 'Recall Score':re_nb, 'F1 Score':f1_nb},\n",
    "          'RandomForest':{'Cohen Kappa':coh_rf, 'Train Accuracy':train_rf, 'Test Accuracy':test_rf, 'Precision':pre_rf, 'Recall Score':re_rf, 'F1 Score':f1_rf},\n",
    "          'GradientBoosting':{'Cohen Kappa':coh_gbc, 'Train Accuracy':train_gbc, 'Test Accuracy':test_gbc, 'Precision':pre_gbc, 'Recall Score':re_gbc, 'F1 Score':f1_gbc},\n",
    "          'XGBClassifier':{'Cohen Kappa':coh_xgb, 'Train Accuracy':train_xgb, 'Test Accuracy':test_xgb, 'Precision':pre_xgb, 'Recall Score':re_xgb, 'F1 Score':f1_xgb},\n",
    "        \n",
    "          }\n",
    "models_with_threshold_90 = pd.DataFrame(models_with_threshold_90)"
   ]
  },
  {
   "cell_type": "code",
   "execution_count": 86,
   "metadata": {},
   "outputs": [
    {
     "data": {
      "text/html": [
       "<div>\n",
       "<style scoped>\n",
       "    .dataframe tbody tr th:only-of-type {\n",
       "        vertical-align: middle;\n",
       "    }\n",
       "\n",
       "    .dataframe tbody tr th {\n",
       "        vertical-align: top;\n",
       "    }\n",
       "\n",
       "    .dataframe thead th {\n",
       "        text-align: right;\n",
       "    }\n",
       "</style>\n",
       "<table border=\"1\" class=\"dataframe\">\n",
       "  <thead>\n",
       "    <tr style=\"text-align: right;\">\n",
       "      <th></th>\n",
       "      <th>Logistic Regression</th>\n",
       "      <th>DecisionTree</th>\n",
       "      <th>KNN</th>\n",
       "      <th>Naives Bayes</th>\n",
       "      <th>RandomForest</th>\n",
       "      <th>GradientBoosting</th>\n",
       "      <th>XGBClassifier</th>\n",
       "    </tr>\n",
       "  </thead>\n",
       "  <tbody>\n",
       "    <tr>\n",
       "      <th>Cohen Kappa</th>\n",
       "      <td>0.0264</td>\n",
       "      <td>0.5293</td>\n",
       "      <td>0.1445</td>\n",
       "      <td>0.0152</td>\n",
       "      <td>0.4796</td>\n",
       "      <td>0.6160</td>\n",
       "      <td>0.6203</td>\n",
       "    </tr>\n",
       "    <tr>\n",
       "      <th>F1 Score</th>\n",
       "      <td>0.5104</td>\n",
       "      <td>0.7646</td>\n",
       "      <td>0.5722</td>\n",
       "      <td>0.5071</td>\n",
       "      <td>0.7396</td>\n",
       "      <td>0.8080</td>\n",
       "      <td>0.8101</td>\n",
       "    </tr>\n",
       "    <tr>\n",
       "      <th>Precision</th>\n",
       "      <td>0.9873</td>\n",
       "      <td>0.9946</td>\n",
       "      <td>0.9889</td>\n",
       "      <td>0.9873</td>\n",
       "      <td>0.9951</td>\n",
       "      <td>0.9951</td>\n",
       "      <td>0.9948</td>\n",
       "    </tr>\n",
       "    <tr>\n",
       "      <th>Recall Score</th>\n",
       "      <td>0.5069</td>\n",
       "      <td>0.7886</td>\n",
       "      <td>0.5710</td>\n",
       "      <td>0.5058</td>\n",
       "      <td>0.8081</td>\n",
       "      <td>0.8117</td>\n",
       "      <td>0.7991</td>\n",
       "    </tr>\n",
       "    <tr>\n",
       "      <th>Test Accuracy</th>\n",
       "      <td>0.9871</td>\n",
       "      <td>0.9869</td>\n",
       "      <td>0.9786</td>\n",
       "      <td>0.9809</td>\n",
       "      <td>0.9830</td>\n",
       "      <td>0.9901</td>\n",
       "      <td>0.9907</td>\n",
       "    </tr>\n",
       "    <tr>\n",
       "      <th>Train Accuracy</th>\n",
       "      <td>0.9868</td>\n",
       "      <td>0.9986</td>\n",
       "      <td>0.9986</td>\n",
       "      <td>0.9986</td>\n",
       "      <td>0.9986</td>\n",
       "      <td>0.9986</td>\n",
       "      <td>0.9986</td>\n",
       "    </tr>\n",
       "  </tbody>\n",
       "</table>\n",
       "</div>"
      ],
      "text/plain": [
       "                Logistic Regression  DecisionTree     KNN  Naives Bayes  \\\n",
       "Cohen Kappa                  0.0264        0.5293  0.1445        0.0152   \n",
       "F1 Score                     0.5104        0.7646  0.5722        0.5071   \n",
       "Precision                    0.9873        0.9946  0.9889        0.9873   \n",
       "Recall Score                 0.5069        0.7886  0.5710        0.5058   \n",
       "Test Accuracy                0.9871        0.9869  0.9786        0.9809   \n",
       "Train Accuracy               0.9868        0.9986  0.9986        0.9986   \n",
       "\n",
       "                RandomForest  GradientBoosting  XGBClassifier  \n",
       "Cohen Kappa           0.4796            0.6160         0.6203  \n",
       "F1 Score              0.7396            0.8080         0.8101  \n",
       "Precision             0.9951            0.9951         0.9948  \n",
       "Recall Score          0.8081            0.8117         0.7991  \n",
       "Test Accuracy         0.9830            0.9901         0.9907  \n",
       "Train Accuracy        0.9986            0.9986         0.9986  "
      ]
     },
     "execution_count": 86,
     "metadata": {},
     "output_type": "execute_result"
    }
   ],
   "source": [
    "models_with_threshold_90"
   ]
  },
  {
   "cell_type": "code",
   "execution_count": null,
   "metadata": {},
   "outputs": [],
   "source": []
  },
  {
   "cell_type": "code",
   "execution_count": 32,
   "metadata": {},
   "outputs": [],
   "source": [
    "from sklearn.linear_model import LogisticRegression\n",
    "lg = LogisticRegression()\n",
    "from sklearn.tree import DecisionTreeClassifier\n",
    "dtree = DecisionTreeClassifier()\n",
    "from sklearn.ensemble import RandomForestClassifier\n",
    "rf = RandomForestClassifier()\n",
    "from sklearn.naive_bayes import GaussianNB\n",
    "gnb = GaussianNB()\n",
    "from sklearn.neighbors import KNeighborsClassifier\n",
    "knn = KNeighborsClassifier(n_neighbors=10)"
   ]
  },
  {
   "cell_type": "code",
   "execution_count": null,
   "metadata": {},
   "outputs": [],
   "source": []
  },
  {
   "cell_type": "code",
   "execution_count": null,
   "metadata": {},
   "outputs": [],
   "source": []
  },
  {
   "cell_type": "markdown",
   "metadata": {},
   "source": [
    "### Normalizing the numerical columns"
   ]
  },
  {
   "cell_type": "code",
   "execution_count": 33,
   "metadata": {},
   "outputs": [],
   "source": [
    "from sklearn.preprocessing import normalize\n",
    "from scipy import stats"
   ]
  },
  {
   "cell_type": "code",
   "execution_count": 34,
   "metadata": {},
   "outputs": [],
   "source": [
    "df1 = df2.copy()"
   ]
  },
  {
   "cell_type": "code",
   "execution_count": 35,
   "metadata": {},
   "outputs": [
    {
     "data": {
      "text/plain": [
       "<matplotlib.axes._subplots.AxesSubplot at 0x1450002b898>"
      ]
     },
     "execution_count": 35,
     "metadata": {},
     "output_type": "execute_result"
    },
    {
     "data": {
      "image/png": "[encoded data removed]",
      "text/plain": [
       "<Figure size 432x288 with 1 Axes>"
      ]
     },
     "metadata": {
      "needs_background": "light"
     },
     "output_type": "display_data"
    }
   ],
   "source": [
    "sns.kdeplot(df1['PREVAILING_WAGE'])"
   ]
  },
  {
   "cell_type": "code",
   "execution_count": 36,
   "metadata": {},
   "outputs": [
    {
     "data": {
      "text/plain": [
       "<matplotlib.axes._subplots.AxesSubplot at 0x1450c4c3940>"
      ]
     },
     "execution_count": 36,
     "metadata": {},
     "output_type": "execute_result"
    },
    {
     "data": {
      "image/png": "[encoded data removed]",
      "text/plain": [
       "<Figure size 432x288 with 1 Axes>"
      ]
     },
     "metadata": {
      "needs_background": "light"
     },
     "output_type": "display_data"
    }
   ],
   "source": [
    "sns.kdeplot(df1['EMPLOYER_FREQUENCY'])"
   ]
  },
  {
   "cell_type": "code",
   "execution_count": 37,
   "metadata": {},
   "outputs": [],
   "source": [
    "from scipy import stats"
   ]
  },
  {
   "cell_type": "code",
   "execution_count": 38,
   "metadata": {},
   "outputs": [
    {
     "data": {
      "text/plain": [
       "(array([2.68120e+04, 3.59557e+05, 1.70000e+01, 3.00000e+00, 1.00000e+00,\n",
       "        0.00000e+00, 0.00000e+00, 0.00000e+00, 0.00000e+00, 1.00000e+00]),\n",
       " array([  2.56363607,  49.57175327,  96.57987046, 143.58798766,\n",
       "        190.59610486, 237.60422205, 284.61233925, 331.62045645,\n",
       "        378.62857365, 425.63669084, 472.64480804]),\n",
       " <a list of 10 Patch objects>)"
      ]
     },
     "execution_count": 38,
     "metadata": {},
     "output_type": "execute_result"
    },
    {
     "data": {
      "image/png": "[encoded data removed]",
      "text/plain": [
       "<Figure size 432x288 with 1 Axes>"
      ]
     },
     "metadata": {
      "needs_background": "light"
     },
     "output_type": "display_data"
    }
   ],
   "source": [
    "a = df1['PREVAILING_WAGE'].values\n",
    "tags_ratio = stats.boxcox(a, 0.25)\n",
    "plt.hist(tags_ratio)"
   ]
  },
  {
   "cell_type": "code",
   "execution_count": 39,
   "metadata": {},
   "outputs": [
    {
     "data": {
      "text/plain": [
       "(array([119786.,  98118.,  58576.,  24336.,  19621.,   2100.,  20701.,\n",
       "          8583.,  21467.,  13103.]),\n",
       " array([ 0.        ,  3.87959505,  7.7591901 , 11.63878515, 15.5183802 ,\n",
       "        19.39797525, 23.2775703 , 27.15716535, 31.0367604 , 34.91635546,\n",
       "        38.79595051]),\n",
       " <a list of 10 Patch objects>)"
      ]
     },
     "execution_count": 39,
     "metadata": {},
     "output_type": "execute_result"
    },
    {
     "data": {
      "image/png": "[encoded data removed]",
      "text/plain": [
       "<Figure size 432x288 with 1 Axes>"
      ]
     },
     "metadata": {
      "needs_background": "light"
     },
     "output_type": "display_data"
    }
   ],
   "source": [
    "a = df1['EMPLOYER_FREQUENCY'].values\n",
    "tags_ratio1 = stats.boxcox(a, 0.25)\n",
    "plt.hist(tags_ratio1)"
   ]
  },
  {
   "cell_type": "code",
   "execution_count": 40,
   "metadata": {},
   "outputs": [],
   "source": [
    "df1['PREVAILING_WAGE'] = tags_ratio\n",
    "df1['EMPLOYER_FREQUENCY'] = tags_ratio1"
   ]
  },
  {
   "cell_type": "code",
   "execution_count": 41,
   "metadata": {},
   "outputs": [
    {
     "data": {
      "text/plain": [
       "<matplotlib.axes._subplots.AxesSubplot at 0x145134fc518>"
      ]
     },
     "execution_count": 41,
     "metadata": {},
     "output_type": "execute_result"
    },
    {
     "data": {
      "image/png": "[encoded data removed]",
      "text/plain": [
       "<Figure size 432x288 with 1 Axes>"
      ]
     },
     "metadata": {
      "needs_background": "light"
     },
     "output_type": "display_data"
    }
   ],
   "source": [
    "sns.kdeplot(df1['PREVAILING_WAGE'])"
   ]
  },
  {
   "cell_type": "code",
   "execution_count": 42,
   "metadata": {},
   "outputs": [
    {
     "data": {
      "text/plain": [
       "<matplotlib.axes._subplots.AxesSubplot at 0x14513bcebe0>"
      ]
     },
     "execution_count": 42,
     "metadata": {},
     "output_type": "execute_result"
    },
    {
     "data": {
      "image/png": "[encoded data removed]",
      "text/plain": [
       "<Figure size 432x288 with 1 Axes>"
      ]
     },
     "metadata": {
      "needs_background": "light"
     },
     "output_type": "display_data"
    }
   ],
   "source": [
    "sns.kdeplot(df1['EMPLOYER_FREQUENCY'])"
   ]
  },
  {
   "cell_type": "code",
   "execution_count": 43,
   "metadata": {},
   "outputs": [],
   "source": [
    "X = df1.drop(['CASE_STATUS','TOTAL_WORKERS'],axis=1)\n",
    "y = df1.CASE_STATUS"
   ]
  },
  {
   "cell_type": "code",
   "execution_count": 44,
   "metadata": {},
   "outputs": [],
   "source": [
    "from imblearn.over_sampling import SMOTE\n",
    "s = SMOTE('minority')"
   ]
  },
  {
   "cell_type": "code",
   "execution_count": 45,
   "metadata": {},
   "outputs": [],
   "source": [
    "xtrain_reset,ytrain_reset = s.fit_sample(xtrain,ytrain)\n",
    "xtest_reset,ytest_reset = s.fit_sample(xtrain,ytrain)\n"
   ]
  },
  {
   "cell_type": "code",
   "execution_count": 46,
   "metadata": {},
   "outputs": [
    {
     "name": "stderr",
     "output_type": "stream",
     "text": [
      "C:\\Users\\hp\\Anaconda3\\lib\\site-packages\\sklearn\\ensemble\\forest.py:245: FutureWarning: The default value of n_estimators will change from 10 in version 0.20 to 100 in 0.22.\n",
      "  \"10 in version 0.20 to 100 in 0.22.\", FutureWarning)\n"
     ]
    }
   ],
   "source": [
    "pred1 = rf.fit(xtrain_reset,ytrain_reset).predict(xtest_reset)"
   ]
  },
  {
   "cell_type": "code",
   "execution_count": null,
   "metadata": {},
   "outputs": [],
   "source": []
  },
  {
   "cell_type": "code",
   "execution_count": null,
   "metadata": {},
   "outputs": [],
   "source": []
  }
 ],
 "metadata": {
  "kernelspec": {
   "display_name": "Python 3",
   "language": "python",
   "name": "python3"
  },
  "language_info": {
   "codemirror_mode": {
    "name": "ipython",
    "version": 3
   },
   "file_extension": ".py",
   "mimetype": "text/x-python",
   "name": "python",
   "nbconvert_exporter": "python",
   "pygments_lexer": "ipython3",
   "version": "3.7.3"
  }
 },
 "nbformat": 4,
 "nbformat_minor": 2
}
